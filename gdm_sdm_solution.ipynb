{
 "cells": [
  {
   "cell_type": "code",
   "execution_count": null,
   "metadata": {},
   "outputs": [],
   "source": [
    "import datetime\n",
    "import pyproj\n",
    "from sklearn.cluster.dbscan_ import DBSCAN\n",
    "import numpy as np\n",
    "\n",
    "\n",
    "from gda_sdm_functions import read_data, plot_nb_dists, plot_cluster, export_to_shp\n"
   ]
  },
  {
   "cell_type": "code",
   "execution_count": null,
   "metadata": {},
   "outputs": [],
   "source": [
    "# Path to geodatabase\n",
    "input_file = r\"taxi_21.txt\"\n",
    "\n",
    "\n",
    "# source projection\n",
    "proj_wgs84 = pyproj.Proj(\"+init=EPSG:4326\")\n",
    "\n",
    "# target protection\n",
    "proj_target = pyproj.Proj(\"+init=EPSG:25833\") # 3004 monte mario 2\n"
   ]
  },
  {
   "cell_type": "code",
   "execution_count": null,
   "metadata": {},
   "outputs": [],
   "source": [
    "def transform(data_in):\n",
    "\n",
    "    data_out = []\n",
    "    \n",
    "    t_reference = datetime.datetime(2014,1,1)\n",
    "\n",
    "    for d in data_in:\n",
    "        x = d[0]\n",
    "        y = d[1]\n",
    "        ts = d[2]\n",
    "\n",
    "        x, y = pyproj.transform(proj_wgs84, proj_target, x, y)\n",
    "        \n",
    "        ts = ((ts-t_reference).total_seconds())/60\n",
    "\n",
    "        data_out.append([x, y, ts])\n",
    "    \n",
    "    return data_out\n"
   ]
  },
  {
   "cell_type": "code",
   "execution_count": null,
   "metadata": {},
   "outputs": [],
   "source": [
    "def dbscan(X, eps=15, min_samples=5, metric='cityblock'):\n",
    "    \"\"\" Function derived from scipy dbscan example\n",
    "    http://scikit-learn.org/stable/auto_examples/cluster/plot_dbscan.html#example-cluster-plot-dbscan-py\n",
    "    \"\"\"\n",
    "\n",
    "    X = np.array(data)\n",
    "\n",
    "    ##########################################################################\n",
    "    # Compute DBSCAN\n",
    "    db = DBSCAN(eps=eps, min_samples=min_samples, metric=metric).fit(X)\n",
    "    \n",
    "    labels = db.labels_\n",
    "    core_samples_indices = db.core_sample_indices_\n",
    "\n",
    "    # Number of clusters in labels, ignoring noise if present.\n",
    "    n_clusters_ = len(set(labels)) - (1 if -1 in labels else 0)\n",
    "\n",
    "    print('Estimated number of clusters: %d' % n_clusters_)\n",
    "\n",
    "    return labels, core_samples_indices\n"
   ]
  },
  {
   "cell_type": "code",
   "execution_count": null,
   "metadata": {},
   "outputs": [],
   "source": [
    "if __name__ == '__main__':\n",
    "\n",
    "    # Read data\n",
    "    org_data = read_data(input_file, 2000)\n",
    "\n",
    "    # Apply transformations\n",
    "    data = transform(org_data)\n",
    "\n",
    "    metric = 'chebyshev'\n",
    "    data = np.array(data)\n",
    "\n",
    "    # plot nearest neighbor distances diagram\n",
    "    plot_nb_dists(data, nearest_neighbor=[7,10,15], metric=metric, ylim=250)\n",
    "    \n",
    "    # set parameters\n",
    "    eps = 5\n",
    "    min_samples = 10\n",
    "    \n",
    "    # Calculate clusters with dbscan\n",
    "    labels, core_samples_indices = dbscan(data, eps=eps, min_samples=min_samples, metric=metric)\n",
    "    \n",
    "    # plot clusters\n",
    "    plot_cluster(data, labels, core_samples_indices, proj_wgs84=proj_wgs84, proj_target=proj_target, linestyle='solid')\n",
    "\n",
    "    \n",
    "    # export clusters to geodatabase\n",
    "    export_layer_name = \"stops\"\n",
    "    export_to_shp(data, labels, export_layer_name, crs=proj_target.srs)\n"
   ]
  },
  {
   "cell_type": "code",
   "execution_count": null,
   "metadata": {},
   "outputs": [],
   "source": []
  }
 ],
 "metadata": {
  "kernelspec": {
   "display_name": "Python 3",
   "language": "python",
   "name": "python3"
  },
  "language_info": {
   "codemirror_mode": {
    "name": "ipython",
    "version": 3
   },
   "file_extension": ".py",
   "mimetype": "text/x-python",
   "name": "python",
   "nbconvert_exporter": "python",
   "pygments_lexer": "ipython3",
   "version": "3.7.6"
  }
 },
 "nbformat": 4,
 "nbformat_minor": 4
}
